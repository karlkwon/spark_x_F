{
 "cells": [
  {
   "cell_type": "code",
   "execution_count": 2,
   "id": "6da770df-273d-4571-a410-6449da46c1d8",
   "metadata": {},
   "outputs": [],
   "source": [
    "## author: karlkwon, mrthinks@gmail.com\n",
    "## data: 2024.12.13\n",
    "## to understand ArUco matrix..."
   ]
  },
  {
   "cell_type": "code",
   "execution_count": 21,
   "id": "46fb5945-9097-48bc-8395-abf198910b9c",
   "metadata": {},
   "outputs": [],
   "source": [
    "import numpy as np\n",
    "from numpy.linalg import inv\n",
    "import math"
   ]
  },
  {
   "cell_type": "code",
   "execution_count": 4,
   "id": "82d34b7c-e15a-46ca-8ceb-50817596a2cd",
   "metadata": {},
   "outputs": [],
   "source": [
    "import matplotlib.pyplot as plt\n",
    "import matplotlib.lines as lines"
   ]
  },
  {
   "cell_type": "code",
   "execution_count": 5,
   "id": "936b0e51-b33a-422e-b32e-3f996610471e",
   "metadata": {},
   "outputs": [],
   "source": [
    "%matplotlib inline"
   ]
  },
  {
   "cell_type": "code",
   "execution_count": 6,
   "id": "3b4d5471-7a81-415c-9ba4-e9163af45c42",
   "metadata": {},
   "outputs": [],
   "source": [
    "theta = 30 / 180 * math.pi"
   ]
  },
  {
   "cell_type": "code",
   "execution_count": 7,
   "id": "c9a28e25-4a86-41c8-a227-f841901171f0",
   "metadata": {},
   "outputs": [],
   "source": [
    "x_t = 2\n",
    "y_t = 1"
   ]
  },
  {
   "cell_type": "code",
   "execution_count": 8,
   "id": "2f2ae957-2133-4148-9659-d336a6540d9a",
   "metadata": {},
   "outputs": [],
   "source": [
    "m1 = np.array([[math.cos(theta), -math.sin(theta), x_t] , [math.sin(theta), math.cos(theta), y_t], [0, 0, 1]])"
   ]
  },
  {
   "cell_type": "code",
   "execution_count": 46,
   "id": "032cb435-4dea-4938-bdb4-b25ba0504d34",
   "metadata": {},
   "outputs": [],
   "source": [
    "# 원점, unit-x, unit-y\n",
    "p1s = np.array([[0, 0, 1], [1, 0, 1], [0, 1, 1]])"
   ]
  },
  {
   "cell_type": "code",
   "execution_count": 10,
   "id": "f583e53f-548b-4b42-843b-37ef7a0b355c",
   "metadata": {},
   "outputs": [
    {
     "data": {
      "text/plain": [
       "(array([[ 0.8660254, -0.5      ,  2.       ],\n",
       "        [ 0.5      ,  0.8660254,  1.       ],\n",
       "        [ 0.       ,  0.       ,  1.       ]]),\n",
       " array([[0, 0, 1],\n",
       "        [1, 0, 1],\n",
       "        [0, 1, 1]]))"
      ]
     },
     "execution_count": 10,
     "metadata": {},
     "output_type": "execute_result"
    }
   ],
   "source": [
    "m1, p1s"
   ]
  },
  {
   "cell_type": "code",
   "execution_count": 11,
   "id": "fbf6d962-a8c5-4857-9825-755e0e1447ef",
   "metadata": {},
   "outputs": [],
   "source": [
    "p2s_T = np.dot(m1, p1s.T)\n",
    "p2s = p2s_T.T"
   ]
  },
  {
   "cell_type": "code",
   "execution_count": 12,
   "id": "5f8f0f8d-80f9-4af0-b8bb-1394d260d2b8",
   "metadata": {},
   "outputs": [
    {
     "data": {
      "text/plain": [
       "array([[2.       , 1.       , 1.       ],\n",
       "       [2.8660254, 1.5      , 1.       ],\n",
       "       [1.5      , 1.8660254, 1.       ]])"
      ]
     },
     "execution_count": 12,
     "metadata": {},
     "output_type": "execute_result"
    }
   ],
   "source": [
    "p2s"
   ]
  },
  {
   "cell_type": "code",
   "execution_count": 13,
   "id": "8c33f0ca-9b99-424f-bba9-86f699963248",
   "metadata": {},
   "outputs": [
    {
     "data": {
      "text/plain": [
       "1"
      ]
     },
     "execution_count": 13,
     "metadata": {},
     "output_type": "execute_result"
    }
   ],
   "source": [
    "p1s[1, 0] - p1s[0, 0]"
   ]
  },
  {
   "cell_type": "code",
   "execution_count": 14,
   "id": "3307113c-74d1-4612-a4fe-1f99898ebd4f",
   "metadata": {},
   "outputs": [
    {
     "data": {
      "image/png": "[encoded data removed]",
      "text/plain": [
       "<Figure size 640x480 with 1 Axes>"
      ]
     },
     "metadata": {},
     "output_type": "display_data"
    }
   ],
   "source": [
    "plt.title(\"original axis (A1) vs transformed axis (A2)\")\n",
    "\n",
    "# A1\n",
    "plt.plot([p1s[0, 0], p1s[1, 0]], [p1s[0, 1], p1s[1, 1]], c='r')\n",
    "plt.plot([p1s[0, 0], p1s[2, 0]], [p1s[0, 1], p1s[2, 1]], c='b')\n",
    "# A2\n",
    "plt.plot([p2s[0, 0], p2s[1, 0]], [p2s[0, 1], p2s[1, 1]], c='r')\n",
    "plt.plot([p2s[0, 0], p2s[2, 0]], [p2s[0, 1], p2s[2, 1]], c='b')\n",
    "\n",
    "plt.show()"
   ]
  },
  {
   "cell_type": "markdown",
   "id": "af59c668-d5b5-46c7-8803-76cbe7a3bb2f",
   "metadata": {},
   "source": [
    "관측점 P3가 (3, 2)위치한다고 할 경우 A2 좌표계 상에 어느 위치에 있는가?"
   ]
  },
  {
   "cell_type": "markdown",
   "id": "55aa5d1e-b572-403f-a5c3-e52ccc3e7ea1",
   "metadata": {},
   "source": [
    "${P3_{A1}}$은 A1 좌표계에서 관측된 P3, ${P3_{A2}}$은 A2 좌표계에서 관측된 P3라 하자.</br>\n",
    "A1 좌표계에 변환행렬 ${M_1}$을 적용하면 A2 좌표계가 된다.</br>\n",
    "\n",
    "이는 다시 말하면, A1 좌표계에서 관측된 위치 ${P3_{A1}}$은 ${P3_{A2}}$에 ${M_1}$을 적용한 것이라고 볼수 있다.</br>\n",
    "\n",
    "${P3_{A1}}$ = ${M_1}$ x ${P3_{A2}}$ </br>\n",
    "\n",
    "${P3_{A2}}$ = ${M_1^{-1}}$ x ${P3_{A1}}$ </br>"
   ]
  },
  {
   "cell_type": "code",
   "execution_count": 35,
   "id": "19868f7f-571a-479c-a7cf-bf530daa89a0",
   "metadata": {},
   "outputs": [],
   "source": [
    "p3_a1_T = np.array([[3, 2, 1]])\n",
    "p3_a1 = p3_a1_T.T"
   ]
  },
  {
   "cell_type": "code",
   "execution_count": 36,
   "id": "2a8debdd-7efd-42c6-86f8-92e0f0b128f3",
   "metadata": {},
   "outputs": [],
   "source": [
    "p3_a2_T = np.dot(inv(m1), p3_a1)\n",
    "p3_a2 = p3_a2_T"
   ]
  },
  {
   "cell_type": "code",
   "execution_count": 37,
   "id": "a604fd29-2ed7-4d08-bff8-55bffe0c21d1",
   "metadata": {},
   "outputs": [
    {
     "data": {
      "text/plain": [
       "array([[1.3660254],\n",
       "       [0.3660254],\n",
       "       [1.       ]])"
      ]
     },
     "execution_count": 37,
     "metadata": {},
     "output_type": "execute_result"
    }
   ],
   "source": [
    "p3_a2"
   ]
  },
  {
   "cell_type": "code",
   "execution_count": 45,
   "id": "87bc230d-f468-4900-82ab-612dd46b43bc",
   "metadata": {},
   "outputs": [],
   "source": [
    "# 얻어진 좌표가 맞는 것인지 변환 행렬을 다시 적용하여 검증해 보자.\n",
    "p3_a1_re_T = np.dot(m1, p3_a2)\n",
    "p3_a1_re = p3_a1_re_T.T"
   ]
  },
  {
   "cell_type": "code",
   "execution_count": 39,
   "id": "c1cd5c91-d155-40a6-ab23-96dff6c14aed",
   "metadata": {},
   "outputs": [
    {
     "data": {
      "text/plain": [
       "array([[3., 2., 1.]])"
      ]
     },
     "execution_count": 39,
     "metadata": {},
     "output_type": "execute_result"
    }
   ],
   "source": [
    "p3_a1_re"
   ]
  },
  {
   "cell_type": "code",
   "execution_count": 43,
   "id": "a55fdd1b-12a4-49b9-9eb5-6606c5c4e93e",
   "metadata": {},
   "outputs": [
    {
     "data": {
      "image/png": "[encoded data removed]",
      "text/plain": [
       "<Figure size 640x480 with 1 Axes>"
      ]
     },
     "metadata": {},
     "output_type": "display_data"
    }
   ],
   "source": [
    "plt.title(\"original axis (A1) vs transformed axis (A2)\")\n",
    "\n",
    "# A1\n",
    "plt.plot([p1s[0, 0], p1s[1, 0]], [p1s[0, 1], p1s[1, 1]], c='r')\n",
    "plt.plot([p1s[0, 0], p1s[2, 0]], [p1s[0, 1], p1s[2, 1]], c='b')\n",
    "plt.scatter(p3_a1[0, 0], p3_a1[1, 0], c='g', label='P3_a1')\n",
    "# A2\n",
    "plt.plot([p2s[0, 0], p2s[1, 0]], [p2s[0, 1], p2s[1, 1]], c='r')\n",
    "plt.plot([p2s[0, 0], p2s[2, 0]], [p2s[0, 1], p2s[2, 1]], c='b')\n",
    "plt.scatter(p3_a2[0, 0], p3_a2[1, 0], c='m', label='P3_a2')\n",
    "\n",
    "plt.legend()\n",
    "plt.show()"
   ]
  },
  {
   "cell_type": "code",
   "execution_count": null,
   "id": "087eff22-571e-42ac-b1bb-65392b0d11d2",
   "metadata": {},
   "outputs": [],
   "source": []
  }
 ],
 "metadata": {
  "kernelspec": {
   "display_name": "Python 3 (ipykernel)",
   "language": "python",
   "name": "python3"
  },
  "language_info": {
   "codemirror_mode": {
    "name": "ipython",
    "version": 3
   },
   "file_extension": ".py",
   "mimetype": "text/x-python",
   "name": "python",
   "nbconvert_exporter": "python",
   "pygments_lexer": "ipython3",
   "version": "3.10.12"
  }
 },
 "nbformat": 4,
 "nbformat_minor": 5
}
